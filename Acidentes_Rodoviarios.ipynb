{
  "nbformat": 4,
  "nbformat_minor": 0,
  "metadata": {
    "colab": {
      "name": "Cópia de PROJ_FINAL // ACIDENTES_TRATADO",
      "provenance": [],
      "collapsed_sections": []
    },
    "kernelspec": {
      "display_name": "Python 3",
      "name": "python3"
    },
    "language_info": {
      "name": "python"
    }
  },
  "cells": [
    {
      "cell_type": "markdown",
      "metadata": {
        "id": "ZRYkCQlQPFFG"
      },
      "source": [
        "# Acidentes"
      ]
    },
    {
      "cell_type": "markdown",
      "metadata": {
        "id": "CuKHneWvcGmF"
      },
      "source": [
        "**Importação de bibliotecas**"
      ]
    },
    {
      "cell_type": "code",
      "metadata": {
        "id": "rkLOY8a_CLwm"
      },
      "source": [
        "#1 - IMPORTANDO BIBLIOTECAS \n",
        "\n",
        "import pandas as pd\n"
      ],
      "execution_count": null,
      "outputs": []
    },
    {
      "cell_type": "code",
      "metadata": {
        "id": "39JwrNtZCU1l",
        "colab": {
          "base_uri": "https://localhost:8080/"
        },
        "outputId": "373efeea-05da-4e68-8384-d1de97b4d313"
      },
      "source": [
        "#2 - INTEGRANDO COM A GCP\n",
        "\n",
        "from google.colab import auth\n",
        "auth.authenticate_user()\n",
        "project_id = 'projeto-final-grupo03'\n",
        "!gcloud config set project projeto-final-grupo03"
      ],
      "execution_count": null,
      "outputs": [
        {
          "output_type": "stream",
          "name": "stdout",
          "text": [
            "Updated property [core/project].\n"
          ]
        }
      ]
    },
    {
      "cell_type": "code",
      "metadata": {
        "id": "8kb73OexC1AE",
        "colab": {
          "base_uri": "https://localhost:8080/"
        },
        "outputId": "e94e1bd4-f8c3-44cf-ffd7-e81f4182e6d8"
      },
      "source": [
        "#3 - IMPORTAÇÃO DO ARQUIVO DA GCP PARA O COLAB\n",
        "\n",
        "!gsutil cp gs://datasets_gp03/acidentes_2019.csv /tmp/acidentes_2019.csv\n",
        "!gsutil cp gs://datasets_gp03/acidentes_2020.csv /tmp/acidentes_2020.csv\n",
        "\n",
        "#Print do resultado para garantir que a transferencia funcionou.\n",
        "#!cat /tmp/acidentes_2019.csv\n",
        "#!cat /tmp/acidentes_2020.csv"
      ],
      "execution_count": null,
      "outputs": [
        {
          "output_type": "stream",
          "name": "stdout",
          "text": [
            "Copying gs://datasets_gp03/acidentes_2019.csv...\n",
            "- [1 files][ 56.4 MiB/ 56.4 MiB]                                                \n",
            "Operation completed over 1 objects/56.4 MiB.                                     \n",
            "Copying gs://datasets_gp03/acidentes_2020.csv...\n",
            "- [1 files][ 50.3 MiB/ 50.3 MiB]                                                \n",
            "Operation completed over 1 objects/50.3 MiB.                                     \n"
          ]
        }
      ]
    },
    {
      "cell_type": "markdown",
      "metadata": {
        "id": "TyuGhiSAbv0n"
      },
      "source": [
        "**Extração dos dados**\n",
        "\n",
        "\n"
      ]
    },
    {
      "cell_type": "code",
      "metadata": {
        "id": "zhyXTD_bEbdr"
      },
      "source": [
        "#3 - IMPORTAR DATASET ACIDENTES 2019\n",
        "df1 = pd.read_csv('/tmp/acidentes_2019.csv', sep=';', parse_dates=['data_inversa'], dayfirst=True)"
      ],
      "execution_count": null,
      "outputs": []
    },
    {
      "cell_type": "code",
      "metadata": {
        "id": "i-i_6uFpHFZM"
      },
      "source": [
        "#3 - IMPORTAR DATASET ACIDENTES 2020\n",
        "df2 = pd.read_csv('/tmp/acidentes_2020.csv', sep=';', parse_dates=['data_inversa'], dayfirst=True)"
      ],
      "execution_count": null,
      "outputs": []
    },
    {
      "cell_type": "code",
      "metadata": {
        "id": "2jcg8NcUNlry"
      },
      "source": [
        "#4 - LISTA COM OS DATAFRAMES\n",
        "frames = [df1, df2]"
      ],
      "execution_count": null,
      "outputs": []
    },
    {
      "cell_type": "code",
      "metadata": {
        "id": "glY-0eubNy6K",
        "colab": {
          "base_uri": "https://localhost:8080/",
          "height": 704
        },
        "outputId": "0dc410bc-a68d-4ff4-9e3c-993b160cd1a0"
      },
      "source": [
        "#5 - CONCATENANDO DATAFRAMES\n",
        "df = pd.concat(frames)\n",
        "df"
      ],
      "execution_count": null,
      "outputs": [
        {
          "output_type": "execute_result",
          "data": {
            "text/html": [
              "<div>\n",
              "<style scoped>\n",
              "    .dataframe tbody tr th:only-of-type {\n",
              "        vertical-align: middle;\n",
              "    }\n",
              "\n",
              "    .dataframe tbody tr th {\n",
              "        vertical-align: top;\n",
              "    }\n",
              "\n",
              "    .dataframe thead th {\n",
              "        text-align: right;\n",
              "    }\n",
              "</style>\n",
              "<table border=\"1\" class=\"dataframe\">\n",
              "  <thead>\n",
              "    <tr style=\"text-align: right;\">\n",
              "      <th></th>\n",
              "      <th>id</th>\n",
              "      <th>pesid</th>\n",
              "      <th>data_inversa</th>\n",
              "      <th>dia_semana</th>\n",
              "      <th>horario</th>\n",
              "      <th>uf</th>\n",
              "      <th>br</th>\n",
              "      <th>km</th>\n",
              "      <th>municipio</th>\n",
              "      <th>causa_acidente</th>\n",
              "      <th>tipo_acidente</th>\n",
              "      <th>classificacao_acidente</th>\n",
              "      <th>fase_dia</th>\n",
              "      <th>sentido_via</th>\n",
              "      <th>condicao_metereologica</th>\n",
              "      <th>tipo_pista</th>\n",
              "      <th>tracado_via</th>\n",
              "      <th>uso_solo</th>\n",
              "      <th>id_veiculo</th>\n",
              "      <th>tipo_veiculo</th>\n",
              "      <th>marca</th>\n",
              "      <th>ano_fabricacao_veiculo</th>\n",
              "      <th>tipo_envolvido</th>\n",
              "      <th>estado_fisico</th>\n",
              "      <th>idade</th>\n",
              "      <th>sexo</th>\n",
              "      <th>ilesos</th>\n",
              "      <th>feridos_leves</th>\n",
              "      <th>feridos_graves</th>\n",
              "      <th>mortos</th>\n",
              "      <th>latitude</th>\n",
              "      <th>longitude</th>\n",
              "      <th>regional</th>\n",
              "      <th>delegacia</th>\n",
              "      <th>uop</th>\n",
              "    </tr>\n",
              "  </thead>\n",
              "  <tbody>\n",
              "    <tr>\n",
              "      <th>0</th>\n",
              "      <td>182256.0</td>\n",
              "      <td>403856.0</td>\n",
              "      <td>2019-01-01</td>\n",
              "      <td>terça-feira</td>\n",
              "      <td>04:00:00</td>\n",
              "      <td>CE</td>\n",
              "      <td>116.0</td>\n",
              "      <td>136,9</td>\n",
              "      <td>RUSSAS</td>\n",
              "      <td>Animais na Pista</td>\n",
              "      <td>Atropelamento de Animal</td>\n",
              "      <td>Sem Vítimas</td>\n",
              "      <td>Amanhecer</td>\n",
              "      <td>Decrescente</td>\n",
              "      <td>Vento</td>\n",
              "      <td>Simples</td>\n",
              "      <td>Curva</td>\n",
              "      <td>Não</td>\n",
              "      <td>324937</td>\n",
              "      <td>Caminhão</td>\n",
              "      <td>I/MB 15SPRINT RONTAN AMB</td>\n",
              "      <td>2012.0</td>\n",
              "      <td>Condutor</td>\n",
              "      <td>Ileso</td>\n",
              "      <td>35.0</td>\n",
              "      <td>Masculino</td>\n",
              "      <td>1</td>\n",
              "      <td>0</td>\n",
              "      <td>0</td>\n",
              "      <td>0</td>\n",
              "      <td>-4,766018</td>\n",
              "      <td>-38,056034</td>\n",
              "      <td>SR-CE</td>\n",
              "      <td>DEL16/3</td>\n",
              "      <td>UOP01/CE</td>\n",
              "    </tr>\n",
              "    <tr>\n",
              "      <th>1</th>\n",
              "      <td>182263.0</td>\n",
              "      <td>402859.0</td>\n",
              "      <td>2019-01-01</td>\n",
              "      <td>terça-feira</td>\n",
              "      <td>05:00:00</td>\n",
              "      <td>MT</td>\n",
              "      <td>158.0</td>\n",
              "      <td>599,5</td>\n",
              "      <td>AGUA BOA</td>\n",
              "      <td>Defeito Mecânico no Veículo</td>\n",
              "      <td>Incêndio</td>\n",
              "      <td>Sem Vítimas</td>\n",
              "      <td>Amanhecer</td>\n",
              "      <td>Decrescente</td>\n",
              "      <td>Garoa/Chuvisco</td>\n",
              "      <td>Simples</td>\n",
              "      <td>Reta</td>\n",
              "      <td>Não</td>\n",
              "      <td>324940</td>\n",
              "      <td>Caminhão</td>\n",
              "      <td>FORD/CARGO 815 N</td>\n",
              "      <td>2011.0</td>\n",
              "      <td>Condutor</td>\n",
              "      <td>Ileso</td>\n",
              "      <td>30.0</td>\n",
              "      <td>Masculino</td>\n",
              "      <td>1</td>\n",
              "      <td>0</td>\n",
              "      <td>0</td>\n",
              "      <td>0</td>\n",
              "      <td>-14,319</td>\n",
              "      <td>-52,169</td>\n",
              "      <td>SR-MT</td>\n",
              "      <td>DEL2/8</td>\n",
              "      <td>UOP02/MT</td>\n",
              "    </tr>\n",
              "    <tr>\n",
              "      <th>2</th>\n",
              "      <td>182277.0</td>\n",
              "      <td>402850.0</td>\n",
              "      <td>2019-01-01</td>\n",
              "      <td>terça-feira</td>\n",
              "      <td>10:00:00</td>\n",
              "      <td>PA</td>\n",
              "      <td>10.0</td>\n",
              "      <td>34</td>\n",
              "      <td>DOM ELISEU</td>\n",
              "      <td>Velocidade Incompatível</td>\n",
              "      <td>Colisão traseira</td>\n",
              "      <td>Sem Vítimas</td>\n",
              "      <td>Pleno dia</td>\n",
              "      <td>Decrescente</td>\n",
              "      <td>Nublado</td>\n",
              "      <td>Simples</td>\n",
              "      <td>Não Informado</td>\n",
              "      <td>Não</td>\n",
              "      <td>324958</td>\n",
              "      <td>Caminhão-trator</td>\n",
              "      <td>VOLVO/FH 540 6X4T</td>\n",
              "      <td>2012.0</td>\n",
              "      <td>Condutor</td>\n",
              "      <td>Ileso</td>\n",
              "      <td>54.0</td>\n",
              "      <td>Masculino</td>\n",
              "      <td>1</td>\n",
              "      <td>0</td>\n",
              "      <td>0</td>\n",
              "      <td>0</td>\n",
              "      <td>-4,15296734</td>\n",
              "      <td>-47,54608154</td>\n",
              "      <td>SR-PA</td>\n",
              "      <td>DEL19/2</td>\n",
              "      <td>UOP03/PA</td>\n",
              "    </tr>\n",
              "    <tr>\n",
              "      <th>3</th>\n",
              "      <td>182289.0</td>\n",
              "      <td>402431.0</td>\n",
              "      <td>2019-01-01</td>\n",
              "      <td>terça-feira</td>\n",
              "      <td>08:30:00</td>\n",
              "      <td>BA</td>\n",
              "      <td>101.0</td>\n",
              "      <td>13</td>\n",
              "      <td>RIO REAL</td>\n",
              "      <td>Ingestão de Álcool</td>\n",
              "      <td>Colisão traseira</td>\n",
              "      <td>Com Vítimas Feridas</td>\n",
              "      <td>Pleno dia</td>\n",
              "      <td>Decrescente</td>\n",
              "      <td>Céu Claro</td>\n",
              "      <td>Dupla</td>\n",
              "      <td>Desvio Temporário</td>\n",
              "      <td>Não</td>\n",
              "      <td>324987</td>\n",
              "      <td>Caminhão-trator</td>\n",
              "      <td>SCANIA/R 440 A6X2</td>\n",
              "      <td>2018.0</td>\n",
              "      <td>Condutor</td>\n",
              "      <td>Ileso</td>\n",
              "      <td>43.0</td>\n",
              "      <td>Masculino</td>\n",
              "      <td>1</td>\n",
              "      <td>0</td>\n",
              "      <td>0</td>\n",
              "      <td>0</td>\n",
              "      <td>-11,5896</td>\n",
              "      <td>-37,8761</td>\n",
              "      <td>SR-SE</td>\n",
              "      <td>DEL20/2</td>\n",
              "      <td>UOP03/SE</td>\n",
              "    </tr>\n",
              "    <tr>\n",
              "      <th>4</th>\n",
              "      <td>182307.0</td>\n",
              "      <td>402642.0</td>\n",
              "      <td>2019-01-01</td>\n",
              "      <td>terça-feira</td>\n",
              "      <td>13:50:00</td>\n",
              "      <td>BA</td>\n",
              "      <td>116.0</td>\n",
              "      <td>440</td>\n",
              "      <td>FEIRA DE SANTANA</td>\n",
              "      <td>Ingestão de Álcool</td>\n",
              "      <td>Saída de leito carroçável</td>\n",
              "      <td>Com Vítimas Feridas</td>\n",
              "      <td>Pleno dia</td>\n",
              "      <td>Decrescente</td>\n",
              "      <td>Céu Claro</td>\n",
              "      <td>Dupla</td>\n",
              "      <td>Curva</td>\n",
              "      <td>Não</td>\n",
              "      <td>325030</td>\n",
              "      <td>Caminhão-trator</td>\n",
              "      <td>VOLVO/FH12 380 4X2T</td>\n",
              "      <td>2003.0</td>\n",
              "      <td>Passageiro</td>\n",
              "      <td>Lesões Graves</td>\n",
              "      <td>37.0</td>\n",
              "      <td>Masculino</td>\n",
              "      <td>0</td>\n",
              "      <td>0</td>\n",
              "      <td>1</td>\n",
              "      <td>0</td>\n",
              "      <td>-12,344</td>\n",
              "      <td>-39,087</td>\n",
              "      <td>SR-BA</td>\n",
              "      <td>DEL10/2</td>\n",
              "      <td>UOP01/BA</td>\n",
              "    </tr>\n",
              "    <tr>\n",
              "      <th>...</th>\n",
              "      <td>...</td>\n",
              "      <td>...</td>\n",
              "      <td>...</td>\n",
              "      <td>...</td>\n",
              "      <td>...</td>\n",
              "      <td>...</td>\n",
              "      <td>...</td>\n",
              "      <td>...</td>\n",
              "      <td>...</td>\n",
              "      <td>...</td>\n",
              "      <td>...</td>\n",
              "      <td>...</td>\n",
              "      <td>...</td>\n",
              "      <td>...</td>\n",
              "      <td>...</td>\n",
              "      <td>...</td>\n",
              "      <td>...</td>\n",
              "      <td>...</td>\n",
              "      <td>...</td>\n",
              "      <td>...</td>\n",
              "      <td>...</td>\n",
              "      <td>...</td>\n",
              "      <td>...</td>\n",
              "      <td>...</td>\n",
              "      <td>...</td>\n",
              "      <td>...</td>\n",
              "      <td>...</td>\n",
              "      <td>...</td>\n",
              "      <td>...</td>\n",
              "      <td>...</td>\n",
              "      <td>...</td>\n",
              "      <td>...</td>\n",
              "      <td>...</td>\n",
              "      <td>...</td>\n",
              "      <td>...</td>\n",
              "    </tr>\n",
              "    <tr>\n",
              "      <th>147637</th>\n",
              "      <td>352311.0</td>\n",
              "      <td>784912.0</td>\n",
              "      <td>2020-08-15</td>\n",
              "      <td>sábado</td>\n",
              "      <td>18:30:00</td>\n",
              "      <td>RS</td>\n",
              "      <td>116.0</td>\n",
              "      <td>156,6</td>\n",
              "      <td>CAXIAS DO SUL</td>\n",
              "      <td>Desobediência às normas de trânsito pelo condutor</td>\n",
              "      <td>Colisão lateral</td>\n",
              "      <td>Com Vítimas Feridas</td>\n",
              "      <td>Anoitecer</td>\n",
              "      <td>Decrescente</td>\n",
              "      <td>Céu Claro</td>\n",
              "      <td>Simples</td>\n",
              "      <td>Curva</td>\n",
              "      <td>Não</td>\n",
              "      <td>633801</td>\n",
              "      <td>Automóvel</td>\n",
              "      <td>FORD/KA FLEX</td>\n",
              "      <td>2012.0</td>\n",
              "      <td>Condutor</td>\n",
              "      <td>Ileso</td>\n",
              "      <td>58.0</td>\n",
              "      <td>Masculino</td>\n",
              "      <td>1</td>\n",
              "      <td>0</td>\n",
              "      <td>0</td>\n",
              "      <td>0</td>\n",
              "      <td>-29,20731013</td>\n",
              "      <td>-51,17757864</td>\n",
              "      <td>SR-RS</td>\n",
              "      <td>UOP01</td>\n",
              "      <td>DEL05</td>\n",
              "    </tr>\n",
              "    <tr>\n",
              "      <th>147638</th>\n",
              "      <td>352395.0</td>\n",
              "      <td>785081.0</td>\n",
              "      <td>2020-12-30</td>\n",
              "      <td>quarta</td>\n",
              "      <td>11:00:00</td>\n",
              "      <td>PI</td>\n",
              "      <td>343.0</td>\n",
              "      <td>20</td>\n",
              "      <td>PARNAIBA</td>\n",
              "      <td>Falta de Atenção à Condução</td>\n",
              "      <td>Colisão transversal</td>\n",
              "      <td>Com Vítimas Feridas</td>\n",
              "      <td>Pleno dia</td>\n",
              "      <td>Crescente</td>\n",
              "      <td>Céu Claro</td>\n",
              "      <td>Simples</td>\n",
              "      <td>Reta</td>\n",
              "      <td>Não</td>\n",
              "      <td>633956</td>\n",
              "      <td>Automóvel</td>\n",
              "      <td>I/VW SPACEFOX COMFORT</td>\n",
              "      <td>2008.0</td>\n",
              "      <td>Condutor</td>\n",
              "      <td>Lesões Leves</td>\n",
              "      <td>19.0</td>\n",
              "      <td>Masculino</td>\n",
              "      <td>0</td>\n",
              "      <td>1</td>\n",
              "      <td>0</td>\n",
              "      <td>0</td>\n",
              "      <td>-2,981128</td>\n",
              "      <td>-41,762501</td>\n",
              "      <td>SR-PI</td>\n",
              "      <td>UOP01</td>\n",
              "      <td>DEL05</td>\n",
              "    </tr>\n",
              "    <tr>\n",
              "      <th>147639</th>\n",
              "      <td>352395.0</td>\n",
              "      <td>785080.0</td>\n",
              "      <td>2020-12-30</td>\n",
              "      <td>quarta</td>\n",
              "      <td>11:00:00</td>\n",
              "      <td>PI</td>\n",
              "      <td>343.0</td>\n",
              "      <td>20</td>\n",
              "      <td>PARNAIBA</td>\n",
              "      <td>Falta de Atenção à Condução</td>\n",
              "      <td>Colisão transversal</td>\n",
              "      <td>Com Vítimas Feridas</td>\n",
              "      <td>Pleno dia</td>\n",
              "      <td>Crescente</td>\n",
              "      <td>Céu Claro</td>\n",
              "      <td>Simples</td>\n",
              "      <td>Reta</td>\n",
              "      <td>Não</td>\n",
              "      <td>633955</td>\n",
              "      <td>Automóvel</td>\n",
              "      <td>VW/GOL 1.0</td>\n",
              "      <td>2011.0</td>\n",
              "      <td>Condutor</td>\n",
              "      <td>Ileso</td>\n",
              "      <td>30.0</td>\n",
              "      <td>Masculino</td>\n",
              "      <td>1</td>\n",
              "      <td>0</td>\n",
              "      <td>0</td>\n",
              "      <td>0</td>\n",
              "      <td>-2,981128</td>\n",
              "      <td>-41,762501</td>\n",
              "      <td>SR-PI</td>\n",
              "      <td>UOP01</td>\n",
              "      <td>DEL05</td>\n",
              "    </tr>\n",
              "    <tr>\n",
              "      <th>147640</th>\n",
              "      <td>352488.0</td>\n",
              "      <td>785255.0</td>\n",
              "      <td>2020-12-31</td>\n",
              "      <td>quinta</td>\n",
              "      <td>08:00:00</td>\n",
              "      <td>MA</td>\n",
              "      <td>135.0</td>\n",
              "      <td>95</td>\n",
              "      <td>ITAPECURU MIRIM</td>\n",
              "      <td>Falta de Atenção à Condução</td>\n",
              "      <td>Colisão lateral</td>\n",
              "      <td>Com Vítimas Feridas</td>\n",
              "      <td>Amanhecer</td>\n",
              "      <td>Decrescente</td>\n",
              "      <td>Céu Claro</td>\n",
              "      <td>Simples</td>\n",
              "      <td>Interseção de vias</td>\n",
              "      <td>Não</td>\n",
              "      <td>634129</td>\n",
              "      <td>Caminhonete</td>\n",
              "      <td>FIAT/STRADA WORKING CE</td>\n",
              "      <td>2013.0</td>\n",
              "      <td>Condutor</td>\n",
              "      <td>Não Informado</td>\n",
              "      <td>NaN</td>\n",
              "      <td>Não Informado</td>\n",
              "      <td>0</td>\n",
              "      <td>0</td>\n",
              "      <td>0</td>\n",
              "      <td>0</td>\n",
              "      <td>-3,3279719</td>\n",
              "      <td>-44,44236412</td>\n",
              "      <td>SR-MA</td>\n",
              "      <td>UOP02</td>\n",
              "      <td>DEL01</td>\n",
              "    </tr>\n",
              "    <tr>\n",
              "      <th>147641</th>\n",
              "      <td>352488.0</td>\n",
              "      <td>785254.0</td>\n",
              "      <td>2020-12-31</td>\n",
              "      <td>quinta</td>\n",
              "      <td>08:00:00</td>\n",
              "      <td>MA</td>\n",
              "      <td>135.0</td>\n",
              "      <td>95</td>\n",
              "      <td>ITAPECURU MIRIM</td>\n",
              "      <td>Falta de Atenção à Condução</td>\n",
              "      <td>Colisão lateral</td>\n",
              "      <td>Com Vítimas Feridas</td>\n",
              "      <td>Amanhecer</td>\n",
              "      <td>Decrescente</td>\n",
              "      <td>Céu Claro</td>\n",
              "      <td>Simples</td>\n",
              "      <td>Interseção de vias</td>\n",
              "      <td>Não</td>\n",
              "      <td>634128</td>\n",
              "      <td>Automóvel</td>\n",
              "      <td>VW/VOYAGE 1.6L AF5</td>\n",
              "      <td>2019.0</td>\n",
              "      <td>Condutor</td>\n",
              "      <td>Lesões Leves</td>\n",
              "      <td>44.0</td>\n",
              "      <td>Masculino</td>\n",
              "      <td>0</td>\n",
              "      <td>1</td>\n",
              "      <td>0</td>\n",
              "      <td>0</td>\n",
              "      <td>-3,3279719</td>\n",
              "      <td>-44,44236412</td>\n",
              "      <td>SR-MA</td>\n",
              "      <td>UOP02</td>\n",
              "      <td>DEL01</td>\n",
              "    </tr>\n",
              "  </tbody>\n",
              "</table>\n",
              "<p>309915 rows × 35 columns</p>\n",
              "</div>"
            ],
            "text/plain": [
              "              id     pesid data_inversa  ... regional delegacia       uop\n",
              "0       182256.0  403856.0   2019-01-01  ...    SR-CE   DEL16/3  UOP01/CE\n",
              "1       182263.0  402859.0   2019-01-01  ...    SR-MT    DEL2/8  UOP02/MT\n",
              "2       182277.0  402850.0   2019-01-01  ...    SR-PA   DEL19/2  UOP03/PA\n",
              "3       182289.0  402431.0   2019-01-01  ...    SR-SE   DEL20/2  UOP03/SE\n",
              "4       182307.0  402642.0   2019-01-01  ...    SR-BA   DEL10/2  UOP01/BA\n",
              "...          ...       ...          ...  ...      ...       ...       ...\n",
              "147637  352311.0  784912.0   2020-08-15  ...    SR-RS     UOP01     DEL05\n",
              "147638  352395.0  785081.0   2020-12-30  ...    SR-PI     UOP01     DEL05\n",
              "147639  352395.0  785080.0   2020-12-30  ...    SR-PI     UOP01     DEL05\n",
              "147640  352488.0  785255.0   2020-12-31  ...    SR-MA     UOP02     DEL01\n",
              "147641  352488.0  785254.0   2020-12-31  ...    SR-MA     UOP02     DEL01\n",
              "\n",
              "[309915 rows x 35 columns]"
            ]
          },
          "metadata": {},
          "execution_count": 57
        }
      ]
    },
    {
      "cell_type": "markdown",
      "metadata": {
        "id": "WHAlOxbF61PP"
      },
      "source": [
        "**Inconsistências, limpeza e tratamento de dados**"
      ]
    },
    {
      "cell_type": "code",
      "metadata": {
        "id": "toN4WeIj4pfK"
      },
      "source": [
        "#6 - DROPANDO COLUNAS DESNECESSÁRIAS AO ESTUDO\n",
        "\n",
        "## dff -> data frame final\n",
        "dff = df.drop(['km', 'municipio', 'tipo_acidente', 'fase_dia', 'sentido_via', 'tipo_pista', 'tracado_via', 'uso_solo', 'id_veiculo', 'tipo_veiculo', 'marca', 'ano_fabricacao_veiculo', 'ilesos', 'feridos_leves', 'feridos_graves', 'mortos', 'latitude', 'longitude', 'regional', 'delegacia', 'uop' ], axis=1)"
      ],
      "execution_count": null,
      "outputs": []
    },
    {
      "cell_type": "code",
      "metadata": {
        "id": "gKOfoqbmMpJK"
      },
      "source": [
        "#7 - RENOMEAR COLUNAS\n",
        "\n",
        "dff.rename(columns={'id':'id_acidente', 'pesid': 'id_pessoa', 'data_inversa': 'data', 'br': 'rodovia_br'}, inplace=True)"
      ],
      "execution_count": null,
      "outputs": []
    },
    {
      "cell_type": "code",
      "metadata": {
        "id": "yP5MSFH36gHN",
        "colab": {
          "base_uri": "https://localhost:8080/",
          "height": 424
        },
        "outputId": "9c192ba1-5107-44ac-f528-b9b1d1b13559"
      },
      "source": [
        "#8 - VERIFICANDO DROP E RENAME\n",
        "\n",
        "dff"
      ],
      "execution_count": null,
      "outputs": [
        {
          "output_type": "execute_result",
          "data": {
            "text/html": [
              "<div>\n",
              "<style scoped>\n",
              "    .dataframe tbody tr th:only-of-type {\n",
              "        vertical-align: middle;\n",
              "    }\n",
              "\n",
              "    .dataframe tbody tr th {\n",
              "        vertical-align: top;\n",
              "    }\n",
              "\n",
              "    .dataframe thead th {\n",
              "        text-align: right;\n",
              "    }\n",
              "</style>\n",
              "<table border=\"1\" class=\"dataframe\">\n",
              "  <thead>\n",
              "    <tr style=\"text-align: right;\">\n",
              "      <th></th>\n",
              "      <th>id_acidente</th>\n",
              "      <th>id_pessoa</th>\n",
              "      <th>data</th>\n",
              "      <th>dia_semana</th>\n",
              "      <th>horario</th>\n",
              "      <th>uf</th>\n",
              "      <th>rodovia_br</th>\n",
              "      <th>causa_acidente</th>\n",
              "      <th>classificacao_acidente</th>\n",
              "      <th>condicao_metereologica</th>\n",
              "      <th>tipo_envolvido</th>\n",
              "      <th>estado_fisico</th>\n",
              "      <th>idade</th>\n",
              "      <th>sexo</th>\n",
              "    </tr>\n",
              "  </thead>\n",
              "  <tbody>\n",
              "    <tr>\n",
              "      <th>0</th>\n",
              "      <td>182256.0</td>\n",
              "      <td>403856.0</td>\n",
              "      <td>2019-01-01</td>\n",
              "      <td>terça-feira</td>\n",
              "      <td>04:00:00</td>\n",
              "      <td>CE</td>\n",
              "      <td>116.0</td>\n",
              "      <td>Animais na Pista</td>\n",
              "      <td>Sem Vítimas</td>\n",
              "      <td>Vento</td>\n",
              "      <td>Condutor</td>\n",
              "      <td>Ileso</td>\n",
              "      <td>35.0</td>\n",
              "      <td>Masculino</td>\n",
              "    </tr>\n",
              "    <tr>\n",
              "      <th>1</th>\n",
              "      <td>182263.0</td>\n",
              "      <td>402859.0</td>\n",
              "      <td>2019-01-01</td>\n",
              "      <td>terça-feira</td>\n",
              "      <td>05:00:00</td>\n",
              "      <td>MT</td>\n",
              "      <td>158.0</td>\n",
              "      <td>Defeito Mecânico no Veículo</td>\n",
              "      <td>Sem Vítimas</td>\n",
              "      <td>Garoa/Chuvisco</td>\n",
              "      <td>Condutor</td>\n",
              "      <td>Ileso</td>\n",
              "      <td>30.0</td>\n",
              "      <td>Masculino</td>\n",
              "    </tr>\n",
              "    <tr>\n",
              "      <th>2</th>\n",
              "      <td>182277.0</td>\n",
              "      <td>402850.0</td>\n",
              "      <td>2019-01-01</td>\n",
              "      <td>terça-feira</td>\n",
              "      <td>10:00:00</td>\n",
              "      <td>PA</td>\n",
              "      <td>10.0</td>\n",
              "      <td>Velocidade Incompatível</td>\n",
              "      <td>Sem Vítimas</td>\n",
              "      <td>Nublado</td>\n",
              "      <td>Condutor</td>\n",
              "      <td>Ileso</td>\n",
              "      <td>54.0</td>\n",
              "      <td>Masculino</td>\n",
              "    </tr>\n",
              "    <tr>\n",
              "      <th>3</th>\n",
              "      <td>182289.0</td>\n",
              "      <td>402431.0</td>\n",
              "      <td>2019-01-01</td>\n",
              "      <td>terça-feira</td>\n",
              "      <td>08:30:00</td>\n",
              "      <td>BA</td>\n",
              "      <td>101.0</td>\n",
              "      <td>Ingestão de Álcool</td>\n",
              "      <td>Com Vítimas Feridas</td>\n",
              "      <td>Céu Claro</td>\n",
              "      <td>Condutor</td>\n",
              "      <td>Ileso</td>\n",
              "      <td>43.0</td>\n",
              "      <td>Masculino</td>\n",
              "    </tr>\n",
              "    <tr>\n",
              "      <th>4</th>\n",
              "      <td>182307.0</td>\n",
              "      <td>402642.0</td>\n",
              "      <td>2019-01-01</td>\n",
              "      <td>terça-feira</td>\n",
              "      <td>13:50:00</td>\n",
              "      <td>BA</td>\n",
              "      <td>116.0</td>\n",
              "      <td>Ingestão de Álcool</td>\n",
              "      <td>Com Vítimas Feridas</td>\n",
              "      <td>Céu Claro</td>\n",
              "      <td>Passageiro</td>\n",
              "      <td>Lesões Graves</td>\n",
              "      <td>37.0</td>\n",
              "      <td>Masculino</td>\n",
              "    </tr>\n",
              "    <tr>\n",
              "      <th>...</th>\n",
              "      <td>...</td>\n",
              "      <td>...</td>\n",
              "      <td>...</td>\n",
              "      <td>...</td>\n",
              "      <td>...</td>\n",
              "      <td>...</td>\n",
              "      <td>...</td>\n",
              "      <td>...</td>\n",
              "      <td>...</td>\n",
              "      <td>...</td>\n",
              "      <td>...</td>\n",
              "      <td>...</td>\n",
              "      <td>...</td>\n",
              "      <td>...</td>\n",
              "    </tr>\n",
              "    <tr>\n",
              "      <th>147637</th>\n",
              "      <td>352311.0</td>\n",
              "      <td>784912.0</td>\n",
              "      <td>2020-08-15</td>\n",
              "      <td>sábado</td>\n",
              "      <td>18:30:00</td>\n",
              "      <td>RS</td>\n",
              "      <td>116.0</td>\n",
              "      <td>Desobediência às normas de trânsito pelo condutor</td>\n",
              "      <td>Com Vítimas Feridas</td>\n",
              "      <td>Céu Claro</td>\n",
              "      <td>Condutor</td>\n",
              "      <td>Ileso</td>\n",
              "      <td>58.0</td>\n",
              "      <td>Masculino</td>\n",
              "    </tr>\n",
              "    <tr>\n",
              "      <th>147638</th>\n",
              "      <td>352395.0</td>\n",
              "      <td>785081.0</td>\n",
              "      <td>2020-12-30</td>\n",
              "      <td>quarta</td>\n",
              "      <td>11:00:00</td>\n",
              "      <td>PI</td>\n",
              "      <td>343.0</td>\n",
              "      <td>Falta de Atenção à Condução</td>\n",
              "      <td>Com Vítimas Feridas</td>\n",
              "      <td>Céu Claro</td>\n",
              "      <td>Condutor</td>\n",
              "      <td>Lesões Leves</td>\n",
              "      <td>19.0</td>\n",
              "      <td>Masculino</td>\n",
              "    </tr>\n",
              "    <tr>\n",
              "      <th>147639</th>\n",
              "      <td>352395.0</td>\n",
              "      <td>785080.0</td>\n",
              "      <td>2020-12-30</td>\n",
              "      <td>quarta</td>\n",
              "      <td>11:00:00</td>\n",
              "      <td>PI</td>\n",
              "      <td>343.0</td>\n",
              "      <td>Falta de Atenção à Condução</td>\n",
              "      <td>Com Vítimas Feridas</td>\n",
              "      <td>Céu Claro</td>\n",
              "      <td>Condutor</td>\n",
              "      <td>Ileso</td>\n",
              "      <td>30.0</td>\n",
              "      <td>Masculino</td>\n",
              "    </tr>\n",
              "    <tr>\n",
              "      <th>147640</th>\n",
              "      <td>352488.0</td>\n",
              "      <td>785255.0</td>\n",
              "      <td>2020-12-31</td>\n",
              "      <td>quinta</td>\n",
              "      <td>08:00:00</td>\n",
              "      <td>MA</td>\n",
              "      <td>135.0</td>\n",
              "      <td>Falta de Atenção à Condução</td>\n",
              "      <td>Com Vítimas Feridas</td>\n",
              "      <td>Céu Claro</td>\n",
              "      <td>Condutor</td>\n",
              "      <td>Não Informado</td>\n",
              "      <td>NaN</td>\n",
              "      <td>Não Informado</td>\n",
              "    </tr>\n",
              "    <tr>\n",
              "      <th>147641</th>\n",
              "      <td>352488.0</td>\n",
              "      <td>785254.0</td>\n",
              "      <td>2020-12-31</td>\n",
              "      <td>quinta</td>\n",
              "      <td>08:00:00</td>\n",
              "      <td>MA</td>\n",
              "      <td>135.0</td>\n",
              "      <td>Falta de Atenção à Condução</td>\n",
              "      <td>Com Vítimas Feridas</td>\n",
              "      <td>Céu Claro</td>\n",
              "      <td>Condutor</td>\n",
              "      <td>Lesões Leves</td>\n",
              "      <td>44.0</td>\n",
              "      <td>Masculino</td>\n",
              "    </tr>\n",
              "  </tbody>\n",
              "</table>\n",
              "<p>309915 rows × 14 columns</p>\n",
              "</div>"
            ],
            "text/plain": [
              "        id_acidente  id_pessoa       data  ...  estado_fisico idade           sexo\n",
              "0          182256.0   403856.0 2019-01-01  ...          Ileso  35.0      Masculino\n",
              "1          182263.0   402859.0 2019-01-01  ...          Ileso  30.0      Masculino\n",
              "2          182277.0   402850.0 2019-01-01  ...          Ileso  54.0      Masculino\n",
              "3          182289.0   402431.0 2019-01-01  ...          Ileso  43.0      Masculino\n",
              "4          182307.0   402642.0 2019-01-01  ...  Lesões Graves  37.0      Masculino\n",
              "...             ...        ...        ...  ...            ...   ...            ...\n",
              "147637     352311.0   784912.0 2020-08-15  ...          Ileso  58.0      Masculino\n",
              "147638     352395.0   785081.0 2020-12-30  ...   Lesões Leves  19.0      Masculino\n",
              "147639     352395.0   785080.0 2020-12-30  ...          Ileso  30.0      Masculino\n",
              "147640     352488.0   785255.0 2020-12-31  ...  Não Informado   NaN  Não Informado\n",
              "147641     352488.0   785254.0 2020-12-31  ...   Lesões Leves  44.0      Masculino\n",
              "\n",
              "[309915 rows x 14 columns]"
            ]
          },
          "metadata": {},
          "execution_count": 60
        }
      ]
    },
    {
      "cell_type": "code",
      "metadata": {
        "id": "7p7fCXBvN_p5",
        "colab": {
          "base_uri": "https://localhost:8080/"
        },
        "outputId": "1dafb58e-e6cf-4c89-b905-c95b1b610b42"
      },
      "source": [
        "#9 - ANALISANDO TIPO E NULOS\n",
        "\n",
        "dff.info()"
      ],
      "execution_count": null,
      "outputs": [
        {
          "output_type": "stream",
          "name": "stdout",
          "text": [
            "<class 'pandas.core.frame.DataFrame'>\n",
            "Int64Index: 309915 entries, 0 to 147641\n",
            "Data columns (total 14 columns):\n",
            " #   Column                  Non-Null Count   Dtype         \n",
            "---  ------                  --------------   -----         \n",
            " 0   id_acidente             309915 non-null  float64       \n",
            " 1   id_pessoa               309913 non-null  float64       \n",
            " 2   data                    309915 non-null  datetime64[ns]\n",
            " 3   dia_semana              309915 non-null  object        \n",
            " 4   horario                 309915 non-null  object        \n",
            " 5   uf                      309915 non-null  object        \n",
            " 6   rodovia_br              309283 non-null  float64       \n",
            " 7   causa_acidente          309915 non-null  object        \n",
            " 8   classificacao_acidente  309915 non-null  object        \n",
            " 9   condicao_metereologica  309915 non-null  object        \n",
            " 10  tipo_envolvido          309915 non-null  object        \n",
            " 11  estado_fisico           309915 non-null  object        \n",
            " 12  idade                   279372 non-null  float64       \n",
            " 13  sexo                    309915 non-null  object        \n",
            "dtypes: datetime64[ns](1), float64(4), object(9)\n",
            "memory usage: 35.5+ MB\n"
          ]
        }
      ]
    },
    {
      "cell_type": "code",
      "metadata": {
        "id": "uNFGs7O8QboW",
        "colab": {
          "base_uri": "https://localhost:8080/"
        },
        "outputId": "680113d0-b81c-4bd3-c1dd-8ce4108c3ae8"
      },
      "source": [
        "#10 - SOMA DE VALORES NULOS PARA SABER A SIGNIFICÂNCIA EM EXCLUIR NULOS\n",
        "\n",
        "dff.isnull().sum()"
      ],
      "execution_count": null,
      "outputs": [
        {
          "output_type": "execute_result",
          "data": {
            "text/plain": [
              "id_acidente                   0\n",
              "id_pessoa                     2\n",
              "data                          0\n",
              "dia_semana                    0\n",
              "horario                       0\n",
              "uf                            0\n",
              "rodovia_br                  632\n",
              "causa_acidente                0\n",
              "classificacao_acidente        0\n",
              "condicao_metereologica        0\n",
              "tipo_envolvido                0\n",
              "estado_fisico                 0\n",
              "idade                     30543\n",
              "sexo                          0\n",
              "dtype: int64"
            ]
          },
          "metadata": {},
          "execution_count": 62
        }
      ]
    },
    {
      "cell_type": "code",
      "metadata": {
        "id": "Z1TR1q3tcEL6",
        "colab": {
          "base_uri": "https://localhost:8080/",
          "height": 424
        },
        "outputId": "542027a3-ed1a-459f-905b-065f2da54d12"
      },
      "source": [
        "#11 - DROP LINHAS DUPLICADAS\n",
        "\n",
        "dff.drop_duplicates()"
      ],
      "execution_count": null,
      "outputs": [
        {
          "output_type": "execute_result",
          "data": {
            "text/html": [
              "<div>\n",
              "<style scoped>\n",
              "    .dataframe tbody tr th:only-of-type {\n",
              "        vertical-align: middle;\n",
              "    }\n",
              "\n",
              "    .dataframe tbody tr th {\n",
              "        vertical-align: top;\n",
              "    }\n",
              "\n",
              "    .dataframe thead th {\n",
              "        text-align: right;\n",
              "    }\n",
              "</style>\n",
              "<table border=\"1\" class=\"dataframe\">\n",
              "  <thead>\n",
              "    <tr style=\"text-align: right;\">\n",
              "      <th></th>\n",
              "      <th>id_acidente</th>\n",
              "      <th>id_pessoa</th>\n",
              "      <th>data</th>\n",
              "      <th>dia_semana</th>\n",
              "      <th>horario</th>\n",
              "      <th>uf</th>\n",
              "      <th>rodovia_br</th>\n",
              "      <th>causa_acidente</th>\n",
              "      <th>classificacao_acidente</th>\n",
              "      <th>condicao_metereologica</th>\n",
              "      <th>tipo_envolvido</th>\n",
              "      <th>estado_fisico</th>\n",
              "      <th>idade</th>\n",
              "      <th>sexo</th>\n",
              "    </tr>\n",
              "  </thead>\n",
              "  <tbody>\n",
              "    <tr>\n",
              "      <th>0</th>\n",
              "      <td>182256.0</td>\n",
              "      <td>403856.0</td>\n",
              "      <td>2019-01-01</td>\n",
              "      <td>terça-feira</td>\n",
              "      <td>04:00:00</td>\n",
              "      <td>CE</td>\n",
              "      <td>116.0</td>\n",
              "      <td>Animais na Pista</td>\n",
              "      <td>Sem Vítimas</td>\n",
              "      <td>Vento</td>\n",
              "      <td>Condutor</td>\n",
              "      <td>Ileso</td>\n",
              "      <td>35.0</td>\n",
              "      <td>Masculino</td>\n",
              "    </tr>\n",
              "    <tr>\n",
              "      <th>1</th>\n",
              "      <td>182263.0</td>\n",
              "      <td>402859.0</td>\n",
              "      <td>2019-01-01</td>\n",
              "      <td>terça-feira</td>\n",
              "      <td>05:00:00</td>\n",
              "      <td>MT</td>\n",
              "      <td>158.0</td>\n",
              "      <td>Defeito Mecânico no Veículo</td>\n",
              "      <td>Sem Vítimas</td>\n",
              "      <td>Garoa/Chuvisco</td>\n",
              "      <td>Condutor</td>\n",
              "      <td>Ileso</td>\n",
              "      <td>30.0</td>\n",
              "      <td>Masculino</td>\n",
              "    </tr>\n",
              "    <tr>\n",
              "      <th>2</th>\n",
              "      <td>182277.0</td>\n",
              "      <td>402850.0</td>\n",
              "      <td>2019-01-01</td>\n",
              "      <td>terça-feira</td>\n",
              "      <td>10:00:00</td>\n",
              "      <td>PA</td>\n",
              "      <td>10.0</td>\n",
              "      <td>Velocidade Incompatível</td>\n",
              "      <td>Sem Vítimas</td>\n",
              "      <td>Nublado</td>\n",
              "      <td>Condutor</td>\n",
              "      <td>Ileso</td>\n",
              "      <td>54.0</td>\n",
              "      <td>Masculino</td>\n",
              "    </tr>\n",
              "    <tr>\n",
              "      <th>3</th>\n",
              "      <td>182289.0</td>\n",
              "      <td>402431.0</td>\n",
              "      <td>2019-01-01</td>\n",
              "      <td>terça-feira</td>\n",
              "      <td>08:30:00</td>\n",
              "      <td>BA</td>\n",
              "      <td>101.0</td>\n",
              "      <td>Ingestão de Álcool</td>\n",
              "      <td>Com Vítimas Feridas</td>\n",
              "      <td>Céu Claro</td>\n",
              "      <td>Condutor</td>\n",
              "      <td>Ileso</td>\n",
              "      <td>43.0</td>\n",
              "      <td>Masculino</td>\n",
              "    </tr>\n",
              "    <tr>\n",
              "      <th>4</th>\n",
              "      <td>182307.0</td>\n",
              "      <td>402642.0</td>\n",
              "      <td>2019-01-01</td>\n",
              "      <td>terça-feira</td>\n",
              "      <td>13:50:00</td>\n",
              "      <td>BA</td>\n",
              "      <td>116.0</td>\n",
              "      <td>Ingestão de Álcool</td>\n",
              "      <td>Com Vítimas Feridas</td>\n",
              "      <td>Céu Claro</td>\n",
              "      <td>Passageiro</td>\n",
              "      <td>Lesões Graves</td>\n",
              "      <td>37.0</td>\n",
              "      <td>Masculino</td>\n",
              "    </tr>\n",
              "    <tr>\n",
              "      <th>...</th>\n",
              "      <td>...</td>\n",
              "      <td>...</td>\n",
              "      <td>...</td>\n",
              "      <td>...</td>\n",
              "      <td>...</td>\n",
              "      <td>...</td>\n",
              "      <td>...</td>\n",
              "      <td>...</td>\n",
              "      <td>...</td>\n",
              "      <td>...</td>\n",
              "      <td>...</td>\n",
              "      <td>...</td>\n",
              "      <td>...</td>\n",
              "      <td>...</td>\n",
              "    </tr>\n",
              "    <tr>\n",
              "      <th>147637</th>\n",
              "      <td>352311.0</td>\n",
              "      <td>784912.0</td>\n",
              "      <td>2020-08-15</td>\n",
              "      <td>sábado</td>\n",
              "      <td>18:30:00</td>\n",
              "      <td>RS</td>\n",
              "      <td>116.0</td>\n",
              "      <td>Desobediência às normas de trânsito pelo condutor</td>\n",
              "      <td>Com Vítimas Feridas</td>\n",
              "      <td>Céu Claro</td>\n",
              "      <td>Condutor</td>\n",
              "      <td>Ileso</td>\n",
              "      <td>58.0</td>\n",
              "      <td>Masculino</td>\n",
              "    </tr>\n",
              "    <tr>\n",
              "      <th>147638</th>\n",
              "      <td>352395.0</td>\n",
              "      <td>785081.0</td>\n",
              "      <td>2020-12-30</td>\n",
              "      <td>quarta</td>\n",
              "      <td>11:00:00</td>\n",
              "      <td>PI</td>\n",
              "      <td>343.0</td>\n",
              "      <td>Falta de Atenção à Condução</td>\n",
              "      <td>Com Vítimas Feridas</td>\n",
              "      <td>Céu Claro</td>\n",
              "      <td>Condutor</td>\n",
              "      <td>Lesões Leves</td>\n",
              "      <td>19.0</td>\n",
              "      <td>Masculino</td>\n",
              "    </tr>\n",
              "    <tr>\n",
              "      <th>147639</th>\n",
              "      <td>352395.0</td>\n",
              "      <td>785080.0</td>\n",
              "      <td>2020-12-30</td>\n",
              "      <td>quarta</td>\n",
              "      <td>11:00:00</td>\n",
              "      <td>PI</td>\n",
              "      <td>343.0</td>\n",
              "      <td>Falta de Atenção à Condução</td>\n",
              "      <td>Com Vítimas Feridas</td>\n",
              "      <td>Céu Claro</td>\n",
              "      <td>Condutor</td>\n",
              "      <td>Ileso</td>\n",
              "      <td>30.0</td>\n",
              "      <td>Masculino</td>\n",
              "    </tr>\n",
              "    <tr>\n",
              "      <th>147640</th>\n",
              "      <td>352488.0</td>\n",
              "      <td>785255.0</td>\n",
              "      <td>2020-12-31</td>\n",
              "      <td>quinta</td>\n",
              "      <td>08:00:00</td>\n",
              "      <td>MA</td>\n",
              "      <td>135.0</td>\n",
              "      <td>Falta de Atenção à Condução</td>\n",
              "      <td>Com Vítimas Feridas</td>\n",
              "      <td>Céu Claro</td>\n",
              "      <td>Condutor</td>\n",
              "      <td>Não Informado</td>\n",
              "      <td>NaN</td>\n",
              "      <td>Não Informado</td>\n",
              "    </tr>\n",
              "    <tr>\n",
              "      <th>147641</th>\n",
              "      <td>352488.0</td>\n",
              "      <td>785254.0</td>\n",
              "      <td>2020-12-31</td>\n",
              "      <td>quinta</td>\n",
              "      <td>08:00:00</td>\n",
              "      <td>MA</td>\n",
              "      <td>135.0</td>\n",
              "      <td>Falta de Atenção à Condução</td>\n",
              "      <td>Com Vítimas Feridas</td>\n",
              "      <td>Céu Claro</td>\n",
              "      <td>Condutor</td>\n",
              "      <td>Lesões Leves</td>\n",
              "      <td>44.0</td>\n",
              "      <td>Masculino</td>\n",
              "    </tr>\n",
              "  </tbody>\n",
              "</table>\n",
              "<p>309915 rows × 14 columns</p>\n",
              "</div>"
            ],
            "text/plain": [
              "        id_acidente  id_pessoa       data  ...  estado_fisico idade           sexo\n",
              "0          182256.0   403856.0 2019-01-01  ...          Ileso  35.0      Masculino\n",
              "1          182263.0   402859.0 2019-01-01  ...          Ileso  30.0      Masculino\n",
              "2          182277.0   402850.0 2019-01-01  ...          Ileso  54.0      Masculino\n",
              "3          182289.0   402431.0 2019-01-01  ...          Ileso  43.0      Masculino\n",
              "4          182307.0   402642.0 2019-01-01  ...  Lesões Graves  37.0      Masculino\n",
              "...             ...        ...        ...  ...            ...   ...            ...\n",
              "147637     352311.0   784912.0 2020-08-15  ...          Ileso  58.0      Masculino\n",
              "147638     352395.0   785081.0 2020-12-30  ...   Lesões Leves  19.0      Masculino\n",
              "147639     352395.0   785080.0 2020-12-30  ...          Ileso  30.0      Masculino\n",
              "147640     352488.0   785255.0 2020-12-31  ...  Não Informado   NaN  Não Informado\n",
              "147641     352488.0   785254.0 2020-12-31  ...   Lesões Leves  44.0      Masculino\n",
              "\n",
              "[309915 rows x 14 columns]"
            ]
          },
          "metadata": {},
          "execution_count": 63
        }
      ]
    },
    {
      "cell_type": "code",
      "metadata": {
        "id": "raPK-UcPRMhk"
      },
      "source": [
        "#12 - DROP NULOS EM 'id_pessoa' E 'rodovia_br' POR REPRESENTAREM MENOS DE 0.2% DO DF\n",
        "\n",
        "#dff[dff['id_pessoa'].isnull()]\n",
        "#dff[dff['rodovia_br'].isnull()]\n",
        "\n",
        "dff.dropna(subset=['id_pessoa'], inplace=True)\n",
        "dff.dropna(subset=['rodovia_br'], inplace=True)\n"
      ],
      "execution_count": null,
      "outputs": []
    },
    {
      "cell_type": "code",
      "metadata": {
        "id": "O5Rg3yY0hEXx",
        "colab": {
          "base_uri": "https://localhost:8080/"
        },
        "outputId": "dc9b9e2a-aa93-41b8-8c10-1dec76316592"
      },
      "source": [
        "#13 - VERIFICANDO DROP DE NULOS E DUPLIACATAS \n",
        "\n",
        "dff.info()"
      ],
      "execution_count": null,
      "outputs": [
        {
          "output_type": "stream",
          "name": "stdout",
          "text": [
            "<class 'pandas.core.frame.DataFrame'>\n",
            "Int64Index: 309281 entries, 0 to 147641\n",
            "Data columns (total 14 columns):\n",
            " #   Column                  Non-Null Count   Dtype         \n",
            "---  ------                  --------------   -----         \n",
            " 0   id_acidente             309281 non-null  float64       \n",
            " 1   id_pessoa               309281 non-null  float64       \n",
            " 2   data                    309281 non-null  datetime64[ns]\n",
            " 3   dia_semana              309281 non-null  object        \n",
            " 4   horario                 309281 non-null  object        \n",
            " 5   uf                      309281 non-null  object        \n",
            " 6   rodovia_br              309281 non-null  float64       \n",
            " 7   causa_acidente          309281 non-null  object        \n",
            " 8   classificacao_acidente  309281 non-null  object        \n",
            " 9   condicao_metereologica  309281 non-null  object        \n",
            " 10  tipo_envolvido          309281 non-null  object        \n",
            " 11  estado_fisico           309281 non-null  object        \n",
            " 12  idade                   278808 non-null  float64       \n",
            " 13  sexo                    309281 non-null  object        \n",
            "dtypes: datetime64[ns](1), float64(4), object(9)\n",
            "memory usage: 35.4+ MB\n"
          ]
        }
      ]
    },
    {
      "cell_type": "code",
      "metadata": {
        "id": "6xMQPZwcO2RY"
      },
      "source": [
        "#14 - ALTERANDO TIPO DE DADOS\n",
        "\n",
        "dff.id_acidente = dff.id_acidente.convert_dtypes(convert_integer=True)\n",
        "dff.id_pessoa = dff.id_pessoa.convert_dtypes(convert_integer=True)\n",
        "dff.idade = dff.idade.convert_dtypes(convert_integer=True)\n",
        "dff.rodovia_br = dff.rodovia_br.convert_dtypes(convert_integer=True)\n",
        "dff.dia_semana = dff.dia_semana.convert_dtypes(convert_string=True)\n",
        "dff.uf = dff.uf.convert_dtypes(convert_string=True)\n",
        "dff.causa_acidente = dff.causa_acidente.convert_dtypes(convert_string=True)\n",
        "dff.classificacao_acidente = dff.classificacao_acidente.convert_dtypes(convert_string=True)\n",
        "dff.condicao_metereologica = dff.condicao_metereologica.convert_dtypes(convert_string=True)\n",
        "dff.tipo_envolvido = dff.tipo_envolvido.convert_dtypes(convert_string=True)\n",
        "dff.estado_fisico = dff.estado_fisico.convert_dtypes(convert_string=True)\n",
        "dff.sexo = dff.sexo.convert_dtypes(convert_string=True)"
      ],
      "execution_count": null,
      "outputs": []
    },
    {
      "cell_type": "code",
      "metadata": {
        "id": "NErGKvvS83Ez",
        "colab": {
          "base_uri": "https://localhost:8080/"
        },
        "outputId": "0d7651ed-b6a3-438e-a1b7-f44bbaf76981"
      },
      "source": [
        "#15 - VERIFICANDO ALTERAÇÃO DO TIPO DE DADO\n",
        "\n",
        "dff.info()"
      ],
      "execution_count": null,
      "outputs": [
        {
          "output_type": "stream",
          "name": "stdout",
          "text": [
            "<class 'pandas.core.frame.DataFrame'>\n",
            "Int64Index: 309281 entries, 0 to 147641\n",
            "Data columns (total 14 columns):\n",
            " #   Column                  Non-Null Count   Dtype         \n",
            "---  ------                  --------------   -----         \n",
            " 0   id_acidente             309281 non-null  Int64         \n",
            " 1   id_pessoa               309281 non-null  Int64         \n",
            " 2   data                    309281 non-null  datetime64[ns]\n",
            " 3   dia_semana              309281 non-null  string        \n",
            " 4   horario                 309281 non-null  object        \n",
            " 5   uf                      309281 non-null  string        \n",
            " 6   rodovia_br              309281 non-null  Int64         \n",
            " 7   causa_acidente          309281 non-null  string        \n",
            " 8   classificacao_acidente  309281 non-null  string        \n",
            " 9   condicao_metereologica  309281 non-null  string        \n",
            " 10  tipo_envolvido          309281 non-null  string        \n",
            " 11  estado_fisico           309281 non-null  string        \n",
            " 12  idade                   278808 non-null  Int64         \n",
            " 13  sexo                    309281 non-null  string        \n",
            "dtypes: Int64(4), datetime64[ns](1), object(1), string(8)\n",
            "memory usage: 36.6+ MB\n"
          ]
        }
      ]
    },
    {
      "cell_type": "code",
      "metadata": {
        "id": "ih7koi5ndJQb",
        "colab": {
          "base_uri": "https://localhost:8080/"
        },
        "outputId": "413cae6d-c857-45cf-f057-c8e6ddcbd3b4"
      },
      "source": [
        "#16 - ANALISANDO SE OS ESTADOS SÃO UNICOS\n",
        "\n",
        "pd.unique(dff['uf'])"
      ],
      "execution_count": null,
      "outputs": [
        {
          "output_type": "execute_result",
          "data": {
            "text/plain": [
              "<StringArray>\n",
              "['CE', 'MT', 'PA', 'BA', 'RS', 'SE', 'MG', 'PE', 'RJ', 'SP', 'RN', 'GO', 'PR',\n",
              " 'MA', 'ES', 'PI', 'PB', 'SC', 'AL', 'MS', 'DF', 'RO', 'TO', 'RR', 'AM', 'AP',\n",
              " 'AC']\n",
              "Length: 27, dtype: string"
            ]
          },
          "metadata": {},
          "execution_count": 68
        }
      ]
    },
    {
      "cell_type": "code",
      "metadata": {
        "id": "FtyjjzXMFvvE",
        "colab": {
          "base_uri": "https://localhost:8080/"
        },
        "outputId": "137199e6-1953-4d0b-a519-5e6528c109aa"
      },
      "source": [
        "#17 - CONTANDO O NÚMERO DE ESTADOS\n",
        "\n",
        "unicos = pd.unique(dff['uf'])\n",
        "cont = 0\n",
        "for i in unicos:\n",
        "    cont += 1\n",
        "print(cont)"
      ],
      "execution_count": null,
      "outputs": [
        {
          "output_type": "stream",
          "name": "stdout",
          "text": [
            "27\n"
          ]
        }
      ]
    },
    {
      "cell_type": "code",
      "metadata": {
        "id": "qs0-ms3Oy2HT",
        "colab": {
          "base_uri": "https://localhost:8080/"
        },
        "outputId": "b3f25117-e4a6-4017-9a1b-ed73901f7bf7"
      },
      "source": [
        "#18 - CONSULTA DIA DA SEMANA ÚNICOS\n",
        "\n",
        "pd.unique(dff['dia_semana'])"
      ],
      "execution_count": null,
      "outputs": [
        {
          "output_type": "execute_result",
          "data": {
            "text/plain": [
              "<StringArray>\n",
              "[  'terça-feira',  'quarta-feira',  'quinta-feira',   'sexta-feira',\n",
              "        'sábado',       'domingo', 'segunda-feira',        'quarta',\n",
              "        'quinta',         'sexta',       'segunda',         'terça']\n",
              "Length: 12, dtype: string"
            ]
          },
          "metadata": {},
          "execution_count": 70
        }
      ]
    },
    {
      "cell_type": "code",
      "metadata": {
        "id": "5ACDoC_7y2HU"
      },
      "source": [
        "#19 - ALTERAR NOME DIA DA SEMANA\n",
        "\n",
        "dff.loc[dff.dia_semana == 'segunda', ['dia_semana']] = 'segunda-feira'\n",
        "dff.loc[dff.dia_semana == 'terça', ['dia_semana']] = 'terça-feira'\n",
        "dff.loc[dff.dia_semana == 'quarta', ['dia_semana']] = 'quarta-feira'\n",
        "dff.loc[dff.dia_semana == 'quinta', ['dia_semana']] = 'quinta-feira'\n",
        "dff.loc[dff.dia_semana == 'sexta', ['dia_semana']] = 'sexta-feira'"
      ],
      "execution_count": null,
      "outputs": []
    },
    {
      "cell_type": "code",
      "metadata": {
        "id": "MqaLOQOmy2HU",
        "colab": {
          "base_uri": "https://localhost:8080/"
        },
        "outputId": "783476de-f7fb-4895-8f49-65d6b9fcaae0"
      },
      "source": [
        "#20 - VERIFICANDO ALTERAÇÃO\n",
        "pd.unique(dff['dia_semana'])\n"
      ],
      "execution_count": null,
      "outputs": [
        {
          "output_type": "execute_result",
          "data": {
            "text/plain": [
              "<StringArray>\n",
              "[  'terça-feira',  'quarta-feira',  'quinta-feira',   'sexta-feira',\n",
              "        'sábado',       'domingo', 'segunda-feira']\n",
              "Length: 7, dtype: string"
            ]
          },
          "metadata": {},
          "execution_count": 72
        }
      ]
    },
    {
      "cell_type": "code",
      "metadata": {
        "id": "kWcLFTUk7kmt"
      },
      "source": [
        "#21 - EDITANDO OS DADOS DA COLUNA \"causa_acidente\"\n",
        "\n",
        "dff.loc[dff.causa_acidente == 'Ingestão de álcool pelo condutor', ['causa_acidente']] = 'Ingestão de Álcool pelo Condutor'\n",
        "dff.loc[dff.causa_acidente == 'Ingestão de Álcool', ['causa_acidente']] = 'Ingestão de Álcool pelo Condutor'\n",
        "dff.loc[dff.causa_acidente == 'Ingestão de álcool e/ou substâncias psicoativas pelo pedestre', ['causa_acidente']] = 'Ingestão de Álcool e/ou Substâncias Psicoativas pelo Pedestre'\n",
        "dff.loc[dff.causa_acidente == 'Ingestão de álcool ou de substâncias psicoativas pelo pedestre', ['causa_acidente']] = 'Ingestão de Álcool e/ou Substâncias Psicoativas pelo Pedestre'\n",
        "dff.loc[dff.causa_acidente == 'Carga excessiva e/ou mal acondicionada', ['causa_acidente']] = 'Carga Excessiva e/ou Mal Acondicionada'\n",
        "dff.loc[dff.causa_acidente == 'Desobediência às normas de trânsito pelo condutor', ['causa_acidente']] = 'Desobediência às Normas de Trânsito Pelo Condutor'\n",
        "dff.loc[dff.causa_acidente == 'Desobediência às normas de trânsito pelo pedestre', ['causa_acidente']] = 'Desobediência às Normas de Trânsito Pelo Pedestre'\n",
        "dff.loc[dff.causa_acidente == 'Não guardar distância de segurança', ['causa_acidente']] = 'Não Guardar Distância de Segurança'\n",
        "dff.loc[dff.causa_acidente == 'Objeto estático sobre o leito carroçável', ['causa_acidente']] = 'Objeto Estático Sobre o Leito Carroçável'\n",
        "dff.loc[dff.causa_acidente == 'Condutor desrespeitou a iluminação vermelha do semáforo', ['causa_acidente']] = 'Condutor Desrespeitou a Iluminação Vermelha do Semáforo'\n",
        "dff.loc[dff.causa_acidente == 'Sinalização da via insuficiente ou inadequada', ['causa_acidente']] = 'Sinalização da Via Insuficiente ou Inadequada'\n",
        "dff.loc[dff.causa_acidente == 'Ausência de reação do condutor', ['causa_acidente']] = 'Ausência de Reação do Condutor'\n",
        "dff.loc[dff.causa_acidente == 'Reação tardia ou ineficiente do condutor', ['causa_acidente']] = 'Reação Tardia ou Ineficiente do Condutor'\n",
        "dff.loc[dff.causa_acidente == 'Pista esburacada', ['causa_acidente']] = 'Pista Esburacada'\n",
        "dff.loc[dff.causa_acidente == 'Acumulo de areia ou detritos sobre o pavimento', ['causa_acidente']] = 'Acumulo de Areia ou Detritos Sobre o Pavimento'\n",
        "dff.loc[dff.causa_acidente == 'Pedestre andava na pista', ['causa_acidente']] = 'Pedestre Andava na Pista'\n",
        "dff.loc[dff.causa_acidente == 'Demais falhas mecânicas ou elétricas', ['causa_acidente']] = 'Demais Falhas Mecânicas ou Elétricas'\n",
        "dff.loc[dff.causa_acidente == 'Manobra de mudança de faixa', ['causa_acidente']] = 'Manobra de Mudança de Faixa'\n",
        "dff.loc[dff.causa_acidente == 'Avarias e/ou desgaste excessivo no pneu', ['causa_acidente']] = 'Avarias e/ou Desgaste Excessivo no Pneu'\n",
        "dff.loc[dff.causa_acidente == 'Acumulo de óleo sobre o pavimento', ['causa_acidente']] = 'Acumulo de Óleo Sobre o Pavimento'\n",
        "dff.loc[dff.causa_acidente == 'Condutor usando celular', ['causa_acidente']] = 'Condutor Usando Celular'\n",
        "dff.loc[dff.causa_acidente == 'Desrespeitar a preferência no cruzamento', ['causa_acidente']] = 'Desrespeitar a Preferência no Cruzamento'\n",
        "dff.loc[dff.causa_acidente == 'Transitar no acostamento', ['causa_acidente']] = 'Transitar no Acostamento'\n",
        "dff.loc[dff.causa_acidente == 'Iluminação deficiente', ['causa_acidente']] = 'Iluminação Deficiente'\n",
        "dff.loc[dff.causa_acidente == 'Acesso irregular', ['causa_acidente']] = 'Acesso Irregular'\n",
        "dff.loc[dff.causa_acidente == 'Afundamento ou ondulação no pavimento', ['causa_acidente']] = 'Afundamento ou Ondulação no Pavimento'\n",
        "dff.loc[dff.causa_acidente == 'Frear bruscamente', ['causa_acidente']] = 'Frear Bruscamente'\n",
        "dff.loc[dff.causa_acidente == 'Acostamento em desnível', ['causa_acidente']] = 'Acostamento em Desnível'\n",
        "dff.loc[dff.causa_acidente == 'Deficiência ou não Acionamento do Sistema de Iluminação/Sinalização do Veículo', ['causa_acidente']] = 'Deficiência ou Não Acionamento do Sistema de Iluminação/Sinalização do Veículo'\n",
        "dff.loc[dff.causa_acidente == 'Transitar na contramão', ['causa_acidente']] = 'Transitar na Contramão'\n",
        "dff.loc[dff.causa_acidente == 'Conversão proibida', ['causa_acidente']] = 'Conversão Proibida'\n",
        "dff.loc[dff.causa_acidente == 'Acessar a via sem observar a presença dos outros veículos', ['causa_acidente']] = 'Acessar a Via sem Observar a Presença dos Outros Veículos'\n",
        "dff.loc[dff.causa_acidente == 'Entrada inopinada do pedestre', ['causa_acidente']] = 'Entrada Inopinada do Pedestre'\n",
        "dff.loc[dff.causa_acidente == 'Mal súbito do condutor', ['causa_acidente']] = 'Mal Súbito do Condutor'\n",
        "dff.loc[dff.causa_acidente == 'Demais falhas na via', ['causa_acidente']] = 'Demais Falhas na Via'\n",
        "dff.loc[dff.causa_acidente == 'Trafegar com motocicleta (ou similar) entre as faixas', ['causa_acidente']] = 'Trafegar com Motocicleta (ou Similar) Entre as Faixas'\n",
        "dff.loc[dff.causa_acidente == 'Estacionar ou parar em local proibido', ['causa_acidente']] = 'Estacionar ou Parar em Local Proibido'\n",
        "dff.loc[dff.causa_acidente == 'Pedestre cruzava a pista fora da faixa', ['causa_acidente']] = 'Pedestre Cruzava a Pista Fora da Faixa'\n",
        "dff.loc[dff.causa_acidente == 'Condutor deixou de manter distância do veículo da frente', ['causa_acidente']] = 'Condutor Deixou de Manter Distância do Veículo da Frente'\n",
        "dff.loc[dff.causa_acidente == 'Ausência de sinalização', ['causa_acidente']] = 'Ausência de Sinalização'\n",
        "dff.loc[dff.causa_acidente == 'Acumulo de água sobre o pavimento', ['causa_acidente']] = 'Acumulo de Água Sobre o Pavimento'"
      ],
      "execution_count": null,
      "outputs": []
    },
    {
      "cell_type": "code",
      "metadata": {
        "id": "tkgIHoIu7uk-",
        "colab": {
          "base_uri": "https://localhost:8080/",
          "height": 112
        },
        "outputId": "f27fddff-6b2f-41d2-9bfc-e19e863f2152"
      },
      "source": [
        "#22 - VERIFICANDO ALTERAÇÕES\n",
        "\n",
        "dff.head(2)"
      ],
      "execution_count": null,
      "outputs": [
        {
          "output_type": "execute_result",
          "data": {
            "text/html": [
              "<div>\n",
              "<style scoped>\n",
              "    .dataframe tbody tr th:only-of-type {\n",
              "        vertical-align: middle;\n",
              "    }\n",
              "\n",
              "    .dataframe tbody tr th {\n",
              "        vertical-align: top;\n",
              "    }\n",
              "\n",
              "    .dataframe thead th {\n",
              "        text-align: right;\n",
              "    }\n",
              "</style>\n",
              "<table border=\"1\" class=\"dataframe\">\n",
              "  <thead>\n",
              "    <tr style=\"text-align: right;\">\n",
              "      <th></th>\n",
              "      <th>id_acidente</th>\n",
              "      <th>id_pessoa</th>\n",
              "      <th>data</th>\n",
              "      <th>dia_semana</th>\n",
              "      <th>horario</th>\n",
              "      <th>uf</th>\n",
              "      <th>rodovia_br</th>\n",
              "      <th>causa_acidente</th>\n",
              "      <th>classificacao_acidente</th>\n",
              "      <th>condicao_metereologica</th>\n",
              "      <th>tipo_envolvido</th>\n",
              "      <th>estado_fisico</th>\n",
              "      <th>idade</th>\n",
              "      <th>sexo</th>\n",
              "    </tr>\n",
              "  </thead>\n",
              "  <tbody>\n",
              "    <tr>\n",
              "      <th>0</th>\n",
              "      <td>182256</td>\n",
              "      <td>403856</td>\n",
              "      <td>2019-01-01</td>\n",
              "      <td>terça-feira</td>\n",
              "      <td>04:00:00</td>\n",
              "      <td>CE</td>\n",
              "      <td>116</td>\n",
              "      <td>Animais na Pista</td>\n",
              "      <td>Sem Vítimas</td>\n",
              "      <td>Vento</td>\n",
              "      <td>Condutor</td>\n",
              "      <td>Ileso</td>\n",
              "      <td>35</td>\n",
              "      <td>Masculino</td>\n",
              "    </tr>\n",
              "    <tr>\n",
              "      <th>1</th>\n",
              "      <td>182263</td>\n",
              "      <td>402859</td>\n",
              "      <td>2019-01-01</td>\n",
              "      <td>terça-feira</td>\n",
              "      <td>05:00:00</td>\n",
              "      <td>MT</td>\n",
              "      <td>158</td>\n",
              "      <td>Defeito Mecânico no Veículo</td>\n",
              "      <td>Sem Vítimas</td>\n",
              "      <td>Garoa/Chuvisco</td>\n",
              "      <td>Condutor</td>\n",
              "      <td>Ileso</td>\n",
              "      <td>30</td>\n",
              "      <td>Masculino</td>\n",
              "    </tr>\n",
              "  </tbody>\n",
              "</table>\n",
              "</div>"
            ],
            "text/plain": [
              "   id_acidente  id_pessoa       data  ... estado_fisico idade       sexo\n",
              "0       182256     403856 2019-01-01  ...         Ileso    35  Masculino\n",
              "1       182263     402859 2019-01-01  ...         Ileso    30  Masculino\n",
              "\n",
              "[2 rows x 14 columns]"
            ]
          },
          "metadata": {},
          "execution_count": 74
        }
      ]
    },
    {
      "cell_type": "code",
      "metadata": {
        "id": "bQTamyN0zcgd",
        "colab": {
          "base_uri": "https://localhost:8080/"
        },
        "outputId": "57d15eff-3724-4f2a-c2db-7cb8347898bf"
      },
      "source": [
        "#23 - ANALISANDO COLUNA 'classificacao_acidente'\n",
        "\n",
        "pd.unique(dff['classificacao_acidente'])"
      ],
      "execution_count": null,
      "outputs": [
        {
          "output_type": "execute_result",
          "data": {
            "text/plain": [
              "<StringArray>\n",
              "['Sem Vítimas', 'Com Vítimas Feridas', 'Com Vítimas Fatais']\n",
              "Length: 3, dtype: string"
            ]
          },
          "metadata": {},
          "execution_count": 75
        }
      ]
    },
    {
      "cell_type": "code",
      "metadata": {
        "id": "aiNiXm4Bzyme",
        "colab": {
          "base_uri": "https://localhost:8080/"
        },
        "outputId": "09326351-62bf-4441-dc65-d2e8c842699f"
      },
      "source": [
        "#23 - ANALISANDO coluna 'condicao_metereologica'\n",
        "\n",
        "pd.unique(dff['condicao_metereologica'])"
      ],
      "execution_count": null,
      "outputs": [
        {
          "output_type": "execute_result",
          "data": {
            "text/plain": [
              "<StringArray>\n",
              "[           'Vento',   'Garoa/Chuvisco',          'Nublado',\n",
              "        'Céu Claro',              'Sol',            'Chuva',\n",
              "         'Ignorado', 'Nevoeiro/Neblina',             'Neve',\n",
              "          'Granizo']\n",
              "Length: 10, dtype: string"
            ]
          },
          "metadata": {},
          "execution_count": 76
        }
      ]
    },
    {
      "cell_type": "code",
      "metadata": {
        "id": "L1GwMB2M0AVp",
        "colab": {
          "base_uri": "https://localhost:8080/"
        },
        "outputId": "f52bc4c9-caf7-42b8-e4bb-a92cc9fc9cd6"
      },
      "source": [
        "#23 - ANALISANDO coluna 'tipo_envolvido'\n",
        "\n",
        "pd.unique(dff['tipo_envolvido'])"
      ],
      "execution_count": null,
      "outputs": [
        {
          "output_type": "execute_result",
          "data": {
            "text/plain": [
              "<StringArray>\n",
              "['Condutor', 'Passageiro', 'Pedestre', 'Testemunha', 'Cavaleiro']\n",
              "Length: 5, dtype: string"
            ]
          },
          "metadata": {},
          "execution_count": 77
        }
      ]
    },
    {
      "cell_type": "code",
      "metadata": {
        "id": "8ywQyq7h0N5c",
        "colab": {
          "base_uri": "https://localhost:8080/"
        },
        "outputId": "2c429a06-4a8c-430d-afa4-16d1b0740827"
      },
      "source": [
        "#23 - ANALISANDO COLUNA 'estado_fisico'\n",
        "\n",
        "pd.unique(dff['estado_fisico'])"
      ],
      "execution_count": null,
      "outputs": [
        {
          "output_type": "execute_result",
          "data": {
            "text/plain": [
              "<StringArray>\n",
              "['Ileso', 'Lesões Graves', 'Lesões Leves', 'Não Informado', 'Óbito']\n",
              "Length: 5, dtype: string"
            ]
          },
          "metadata": {},
          "execution_count": 78
        }
      ]
    },
    {
      "cell_type": "code",
      "metadata": {
        "id": "BFchVpa10U9G",
        "colab": {
          "base_uri": "https://localhost:8080/"
        },
        "outputId": "cfe4fdcc-3ad4-4cf7-9938-a1202fb15db0"
      },
      "source": [
        "#23 - ANALISANDO COLUNA 'sexo'\n",
        "\n",
        "pd.unique(dff['sexo'])"
      ],
      "execution_count": null,
      "outputs": [
        {
          "output_type": "execute_result",
          "data": {
            "text/plain": [
              "<StringArray>\n",
              "['Masculino', 'Não Informado', 'Feminino', 'Ignorado']\n",
              "Length: 4, dtype: string"
            ]
          },
          "metadata": {},
          "execution_count": 79
        }
      ]
    },
    {
      "cell_type": "code",
      "metadata": {
        "id": "mWnMn_sAz-J5",
        "colab": {
          "base_uri": "https://localhost:8080/"
        },
        "outputId": "9b4f4b30-5209-4aaf-ebad-ba105488ed6c"
      },
      "source": [
        "#24 - CONTANDO RESULTADOS 'cavaleiro' NA COLUNA 'tipo_envolvido'\n",
        "\n",
        "cont = 0\n",
        "for i in dff.tipo_envolvido:\n",
        "    if i == 'Cavaleiro':\n",
        "        cont += 1\n",
        "print(cont)"
      ],
      "execution_count": null,
      "outputs": [
        {
          "output_type": "stream",
          "name": "stdout",
          "text": [
            "83\n"
          ]
        }
      ]
    },
    {
      "cell_type": "code",
      "metadata": {
        "id": "-_7Xfc6oDfR_",
        "colab": {
          "base_uri": "https://localhost:8080/"
        },
        "outputId": "77cca474-9918-4944-e4d0-104d62d5cf5d"
      },
      "source": [
        "#25 - CONTANDO RESULTADOS 'Não Informado' NA COLUNA 'estado_fisico'\n",
        "\n",
        "cont = 0\n",
        "for i in dff.estado_fisico:\n",
        "    if i == 'Não Informado':\n",
        "        cont += 1\n",
        "print(cont)"
      ],
      "execution_count": null,
      "outputs": [
        {
          "output_type": "stream",
          "name": "stdout",
          "text": [
            "19228\n"
          ]
        }
      ]
    },
    {
      "cell_type": "code",
      "metadata": {
        "id": "JQLmWpz5z82J",
        "colab": {
          "base_uri": "https://localhost:8080/"
        },
        "outputId": "73584d47-22f2-4f82-c770-0f39d3dbf710"
      },
      "source": [
        "#26 - CONTANDO RESULTADOS 'Não Informado' NA COLUNA 'sexo'\n",
        "\n",
        "cont = 0\n",
        "for i in dff.sexo:\n",
        "    if i == 'Não Informado':\n",
        "        cont += 1\n",
        "print(cont)\n",
        "\n",
        "#Número significativo de não informado"
      ],
      "execution_count": null,
      "outputs": [
        {
          "output_type": "stream",
          "name": "stdout",
          "text": [
            "19228\n"
          ]
        }
      ]
    },
    {
      "cell_type": "code",
      "metadata": {
        "id": "Ng6dmK7zSyrC",
        "colab": {
          "base_uri": "https://localhost:8080/"
        },
        "outputId": "1276c6d2-afcf-48b3-e29c-670daebb84cb"
      },
      "source": [
        "#27 - CONTANDO RESULTADOS 'Ignorado' NA COLUNA 'sexo'\n",
        "\n",
        "cont = 0\n",
        "for i in dff.sexo:\n",
        "    if i == 'Ignorado':\n",
        "        cont += 1\n",
        "print(cont)\n",
        "\n",
        "#Número de ignorados"
      ],
      "execution_count": null,
      "outputs": [
        {
          "output_type": "stream",
          "name": "stdout",
          "text": [
            "1809\n"
          ]
        }
      ]
    },
    {
      "cell_type": "code",
      "metadata": {
        "id": "cgvIfGWw7x99",
        "colab": {
          "base_uri": "https://localhost:8080/"
        },
        "outputId": "8c521483-5ad2-4fc2-885a-9bcb05de196d"
      },
      "source": [
        "#28 - CONTANDO VALORES ÚNICOS POR COLUNA\n",
        "\n",
        "unicos = pd.unique(dff['id_acidente'])\n",
        "cont = 0\n",
        "for i in unicos:\n",
        "    cont += 1\n",
        "print(cont)\n",
        "\n",
        "##VALORES ABAIXO ANALISADOS\n",
        "\n",
        "#pd.unique(dff['id_pessoa'])\n",
        "#pd.unique(dff['data_inversa'])\n",
        "#pd.unique(dff['dia_semana'])\n",
        "#pd.unique(dff['uf'])\n",
        "#pd.unique(dff['causa_acidente'])\n",
        "#pd.unique(dff['sexo'])"
      ],
      "execution_count": null,
      "outputs": [
        {
          "output_type": "stream",
          "name": "stdout",
          "text": [
            "130723\n"
          ]
        }
      ]
    },
    {
      "cell_type": "markdown",
      "metadata": {
        "id": "jfYOsR_SGoGT"
      },
      "source": [
        "**PLOTAR GRÁFICOS PARA VISUALIZAÇÃO**"
      ]
    },
    {
      "cell_type": "code",
      "metadata": {
        "id": "Jkj6MYl8iB_s",
        "colab": {
          "base_uri": "https://localhost:8080/",
          "height": 440
        },
        "outputId": "ad2bbc31-c3f8-4728-ee7d-b572d8915931"
      },
      "source": [
        "#29 - PLOTANDO GRÁFICO PARA UMA BREVE VISUALIZAÇÃO\n",
        "\n",
        "dff.groupby(['data']).id_acidente.size().plot.bar(figsize=(36,6),xlabel='Data',ylabel='Acidentes')"
      ],
      "execution_count": null,
      "outputs": [
        {
          "output_type": "execute_result",
          "data": {
            "text/plain": [
              "<matplotlib.axes._subplots.AxesSubplot at 0x7f13aa7526d0>"
            ]
          },
          "metadata": {},
          "execution_count": 85
        },
        {
          "output_type": "display_data",
          "data": {
            "image/png": "[encoded data removed]",
            "text/plain": [
              "<Figure size 2592x432 with 1 Axes>"
            ]
          },
          "metadata": {
            "needs_background": "light"
          }
        }
      ]
    },
    {
      "cell_type": "code",
      "metadata": {
        "id": "UP8_Yj65OdsK",
        "colab": {
          "base_uri": "https://localhost:8080/",
          "height": 411
        },
        "outputId": "3583066a-af81-40ec-a8e9-e3a89d03963b"
      },
      "source": [
        "#29 - PLOTANDO GRÁFICO PARA UMA BREVE VISUALIZAÇÃO 'acidentes por estado'\n",
        "\n",
        "dff.groupby(['uf']).id_acidente.size().plot.bar(figsize=(12,6),xlabel='Estado',ylabel='Total de ocorrencias')"
      ],
      "execution_count": null,
      "outputs": [
        {
          "output_type": "execute_result",
          "data": {
            "text/plain": [
              "<matplotlib.axes._subplots.AxesSubplot at 0x7f13aaea2fd0>"
            ]
          },
          "metadata": {},
          "execution_count": 86
        },
        {
          "output_type": "display_data",
          "data": {
            "image/png": "[encoded data removed]",
            "text/plain": [
              "<Figure size 864x432 with 1 Axes>"
            ]
          },
          "metadata": {
            "needs_background": "light"
          }
        }
      ]
    },
    {
      "cell_type": "code",
      "metadata": {
        "id": "5dCnsouh75-2",
        "colab": {
          "base_uri": "https://localhost:8080/",
          "height": 804
        },
        "outputId": "c5ff0230-48ed-4f4a-9943-a717e3953aa9"
      },
      "source": [
        "#29 - PLOTANDO GRÁFICO PARA UMA BREVE VISUALIZAÇÃO 'causa acidente'\n",
        "\n",
        "dff.groupby(['causa_acidente']).id_acidente.size().plot.bar(figsize=(24,6),xlabel='Causa',ylabel='Total de ocorrencias')"
      ],
      "execution_count": null,
      "outputs": [
        {
          "output_type": "execute_result",
          "data": {
            "text/plain": [
              "<matplotlib.axes._subplots.AxesSubplot at 0x7f13a83e61d0>"
            ]
          },
          "metadata": {},
          "execution_count": 87
        },
        {
          "output_type": "display_data",
          "data": {
            "image/png": "[encoded data removed]",
            "text/plain": [
              "<Figure size 1728x432 with 1 Axes>"
            ]
          },
          "metadata": {
            "needs_background": "light"
          }
        }
      ]
    },
    {
      "cell_type": "code",
      "metadata": {
        "id": "3H1ZqTIbao1_",
        "colab": {
          "base_uri": "https://localhost:8080/",
          "height": 465
        },
        "outputId": "b8267cba-3df1-4988-b7d4-78430c2173b7"
      },
      "source": [
        "#29 - PLOTANDO GRÁFICO PARA UMA BREVE VISUALIZAÇÃO 'dia da semana'\n",
        "\n",
        "dff.groupby(['dia_semana']).id_acidente.size().plot.bar(figsize=(12,6),xlabel='Estado',ylabel='Total de ocorrencias')"
      ],
      "execution_count": null,
      "outputs": [
        {
          "output_type": "execute_result",
          "data": {
            "text/plain": [
              "<matplotlib.axes._subplots.AxesSubplot at 0x7f13a82d4190>"
            ]
          },
          "metadata": {},
          "execution_count": 88
        },
        {
          "output_type": "display_data",
          "data": {
            "image/png": "[encoded data removed]",
            "text/plain": [
              "<Figure size 864x432 with 1 Axes>"
            ]
          },
          "metadata": {
            "needs_background": "light"
          }
        }
      ]
    },
    {
      "cell_type": "markdown",
      "metadata": {
        "id": "bjKeFo0tG_lq"
      },
      "source": [
        "**EXPORTAR PARA GCP**"
      ]
    },
    {
      "cell_type": "code",
      "metadata": {
        "id": "D2CuTt0E7cwF",
        "colab": {
          "base_uri": "https://localhost:8080/"
        },
        "outputId": "7230e2bd-f7ea-4d9a-abe1-0a654b1ebbde"
      },
      "source": [
        "#30 - SALVANDO O ARQUIVO NORMALIZADO NO BUCKET\n",
        "\n",
        "dff.to_csv('acidentes_tratado.csv')\n",
        "!gsutil cp acidentes_tratado.csv gs://notebooks_pandas_gp03/\n",
        "#!gsutil cat gs://notebooks_pandas_gp03/acidentes_tratado.csv"
      ],
      "execution_count": null,
      "outputs": [
        {
          "output_type": "stream",
          "name": "stdout",
          "text": [
            "Copying file://acidentes_tratado.csv [Content-Type=text/csv]...\n",
            "-\n",
            "Operation completed over 1 objects/45.8 MiB.                                     \n"
          ]
        }
      ]
    }
  ]
}